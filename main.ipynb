{
 "cells": [
  {
   "cell_type": "code",
   "execution_count": null,
   "metadata": {},
   "outputs": [],
   "source": [
    "# Importing Libraries and Dataset\n",
    "import pandas as pd\n",
    "import numpy as np\n",
    "import matplotlib.pyplot as plt\n",
    "import seaborn as sns\n",
    "from sklearn.metrics import mean_squared_error, r2_score\n",
    "from sklearn import linear_model\n",
    "from sklearn.preprocessing import MinMaxScaler\n",
    "from sklearn.feature_selection import RFE\n",
    "from sklearn.linear_model import LinearRegression, RidgeCV, LassoCV, Ridge, Lasso\n",
    "from sklearn.model_selection import GridSearchCV, cross_val_score, train_test_split\n",
    "\n",
    "train = pd.read_csv('train.csv')\n",
    "train.head()"
   ]
  },
  {
   "cell_type": "code",
   "execution_count": null,
   "metadata": {},
   "outputs": [],
   "source": [
    "#Identifying null values count in each column\n",
    "train_null = train.isnull().sum()\n",
    "train_null"
   ]
  },
  {
   "cell_type": "code",
   "execution_count": null,
   "metadata": {},
   "outputs": [],
   "source": [
    "#Dropping columns with Null Values count more than 1000\n",
    "train = train.drop(['Alley','PoolQC','Fence','MiscFeature'], axis = 1)\n",
    "train.shape"
   ]
  },
  {
   "cell_type": "code",
   "execution_count": null,
   "metadata": {},
   "outputs": [],
   "source": [
    "#Identifying columns with object data type and unique values in each column\n",
    "train_Object_DT = train.select_dtypes(exclude=[np.number])\n",
    "for i in train_Object_DT.columns:\n",
    "    print(i + \"\\t\" + \"\\t\" + str(len(train_Object_DT[i].unique())))"
   ]
  },
  {
   "cell_type": "code",
   "execution_count": null,
   "metadata": {},
   "outputs": [],
   "source": [
    "#Creating dummy variable as part of hot encoding against the selective columns out of above mentioned list.\n",
    "train=pd.get_dummies(data=train, columns=['MSZoning', 'Street','Utilities','BldgType','ExterQual','ExterCond','BsmtQual','BsmtCond','CentralAir','Electrical','KitchenQual','GarageType','SaleType','SaleCondition'],drop_first=True)\n",
    "train.head(20)"
   ]
  },
  {
   "cell_type": "code",
   "execution_count": null,
   "metadata": {},
   "outputs": [],
   "source": [
    "#Selecting only numeric data to select the machine learning modelling.\n",
    "train = train.select_dtypes(include=[np.number])\n",
    "train"
   ]
  },
  {
   "cell_type": "code",
   "execution_count": null,
   "metadata": {},
   "outputs": [],
   "source": [
    "#Identifying columns with null values\n",
    "null_columns=train.columns[train.isnull().any()]\n",
    "train[null_columns].isnull().sum()"
   ]
  },
  {
   "cell_type": "code",
   "execution_count": null,
   "metadata": {},
   "outputs": [],
   "source": [
    "#Converting column with Year data to Age for better results\n",
    "def age(x): return 2020-x\n",
    "train['Year_Built_Age'] = train.YearBuilt.apply(age)\n",
    "train['Year_GarageBuilt_Age'] = train.GarageYrBlt.apply(age)\n",
    "train['Age_After_Remodel'] = train.YearRemodAdd.apply(age)\n",
    "train['Age_After_Sold'] = train.YrSold.apply(age)\n",
    "train.head()"
   ]
  },
  {
   "cell_type": "code",
   "execution_count": null,
   "metadata": {},
   "outputs": [],
   "source": [
    "#Dropping column with year data as the same is now converted to age.\n",
    "train = train.drop(['YearBuilt','GarageYrBlt','YearRemodAdd','YrSold','LotFrontage','MasVnrArea'], axis=1)"
   ]
  },
  {
   "cell_type": "code",
   "execution_count": null,
   "metadata": {},
   "outputs": [],
   "source": [
    "train.describe()"
   ]
  },
  {
   "cell_type": "code",
   "execution_count": null,
   "metadata": {},
   "outputs": [],
   "source": [
    "#Imputing null variables with mean of the column value.\n",
    "train = train.groupby(train.columns, axis = 1).transform(lambda x: x.fillna(x.mean()))\n",
    "train.head(20)"
   ]
  },
  {
   "cell_type": "code",
   "execution_count": null,
   "metadata": {},
   "outputs": [],
   "source": [
    "#Skewness of Dataset Target Variable\n",
    "train_skew = train.SalePrice.skew()\n",
    "plt.hist(train.SalePrice)\n",
    "plt.show()"
   ]
  },
  {
   "cell_type": "code",
   "execution_count": null,
   "metadata": {},
   "outputs": [],
   "source": [
    "#Log value of Dataset Target Variable to project normal distribution\n",
    "train_skew_log = np.log(train.SalePrice)\n",
    "plt.hist(train_skew_log)\n",
    "plt.show()"
   ]
  },
  {
   "cell_type": "code",
   "execution_count": null,
   "metadata": {},
   "outputs": [],
   "source": [
    "# correlation heatmap\n",
    "plt.figure(figsize=(28,28))\n",
    "corr1 = sns.heatmap(train.corr(), vmin=-1, vmax=1, center=0, cmap=sns.diverging_palette(20, 220, n=200), square=True)"
   ]
  },
  {
   "cell_type": "code",
   "execution_count": null,
   "metadata": {},
   "outputs": [],
   "source": [
    "#Identifying Variables with Co-relation value more than .50\n",
    "correlation_temp = train.corr()\n",
    "correlation_fin = correlation_temp.index[abs(correlation_temp[\"SalePrice\"]) >= 0.50]\n",
    "correlation_fin"
   ]
  },
  {
   "cell_type": "code",
   "execution_count": null,
   "metadata": {},
   "outputs": [],
   "source": [
    "plt.figure(figsize=(25,25))\n",
    "corr2 = sns.heatmap(train[correlation_fin].corr(), vmin=-1, vmax=1, center=0, cmap=sns.diverging_palette(20, 220, n=200), square=True, linewidth=1)"
   ]
  },
  {
   "cell_type": "code",
   "execution_count": null,
   "metadata": {},
   "outputs": [],
   "source": [
    "#Taking top 5 high co-relation variable.\n",
    "corr = train.corr()\n",
    "print (corr['SalePrice'].sort_values(ascending=False)[:5], '\\n')"
   ]
  },
  {
   "cell_type": "code",
   "execution_count": null,
   "metadata": {},
   "outputs": [],
   "source": [
    "#Plotting graph of salePrice with OverallQual\n",
    "rel_OverallQual = train.pivot_table(index='OverallQual', values='SalePrice', aggfunc=np.median)\n",
    "print(rel_OverallQual)\n",
    "rel_OverallQual.plot(kind='bar')\n",
    "plt.xlabel('Overall Quality')\n",
    "plt.ylabel('Sale Price')\n",
    "plt.xticks(rotation=0)\n",
    "plt.show()"
   ]
  },
  {
   "cell_type": "code",
   "execution_count": null,
   "metadata": {},
   "outputs": [],
   "source": [
    "#Plotting graph of salePrice with GrLivArea and identify outliers\n",
    "rel_GrLivArea = train.pivot_table(index='GrLivArea', values='SalePrice', aggfunc=np.median)\n",
    "print(rel_GrLivArea)\n",
    "plt.scatter(x=train['GrLivArea'], y=train_skew_log)\n",
    "plt.xlabel('Living Area')\n",
    "plt.ylabel('Sale Price')\n",
    "plt.show()"
   ]
  },
  {
   "cell_type": "code",
   "execution_count": null,
   "metadata": {},
   "outputs": [],
   "source": [
    "#Plotting graph of salePrice with GrLivArea removing outliers\n",
    "train = train[train['GrLivArea'] < 4000]\n",
    "plt.scatter(x=train['GrLivArea'], y=np.log(train.SalePrice))\n",
    "plt.xlabel('Living Area')\n",
    "plt.ylabel('Sale Price')\n",
    "plt.show()"
   ]
  },
  {
   "cell_type": "code",
   "execution_count": null,
   "metadata": {},
   "outputs": [],
   "source": [
    "#Plotting graph of salePrice with GarageCars\n",
    "rel_GarageCars = train.pivot_table(index='GarageCars', values='SalePrice', aggfunc=np.median)\n",
    "print(rel_GarageCars)\n",
    "rel_GarageCars.plot(kind='bar')\n",
    "plt.xlabel('Garage Cars')\n",
    "plt.ylabel('Sale Price')\n",
    "plt.xticks(rotation=0)\n",
    "plt.show()"
   ]
  },
  {
   "cell_type": "code",
   "execution_count": null,
   "metadata": {},
   "outputs": [],
   "source": [
    "#Plotting graph of salePrice with GarageArea and identify outliers\n",
    "rel_GarageArea = train.pivot_table(index='GarageArea', values='SalePrice', aggfunc=np.median)\n",
    "print(rel_GarageArea)\n",
    "plt.scatter(x=train['GarageArea'], y=np.log(train.SalePrice))\n",
    "plt.xlabel('Garage Area')\n",
    "plt.ylabel('Sale Price')\n",
    "plt.xticks(rotation=0)\n",
    "plt.show()"
   ]
  },
  {
   "cell_type": "code",
   "execution_count": null,
   "metadata": {},
   "outputs": [],
   "source": [
    "#Plotting graph of salePrice with GarageArea removing outliers\n",
    "train = train[train['GarageArea'] < 1100]\n",
    "plt.scatter(x=train['GarageArea'], y=np.log(train.SalePrice))\n",
    "plt.xlabel('Garage Area')\n",
    "plt.ylabel('Sale Price')\n",
    "plt.show()"
   ]
  },
  {
   "cell_type": "code",
   "execution_count": null,
   "metadata": {},
   "outputs": [],
   "source": [
    "# separate the features and the target variable for modeling.\n",
    "# Assigning the features to X and the target variable(Sales Price)to y.\n",
    "y = np.log(train.SalePrice)\n",
    "X = train.drop(['SalePrice', 'Id'], axis=1)"
   ]
  },
  {
   "cell_type": "code",
   "execution_count": null,
   "metadata": {},
   "outputs": [],
   "source": [
    "#Bifurcating dataset into test and training set with 35% of the data is devoted to the hold-out set\n",
    "#Initiating Linear Regression model and check score.\n",
    "X_train, X_test, y_train, y_test = train_test_split(X, y, test_size=.35, random_state=0)\n",
    "regression=LinearRegression()\n",
    "regression.fit(X_train,y_train)\n",
    "LinearRegression(copy_X=True, fit_intercept=True, n_jobs=None, normalize=False)\n",
    "y_pred=regression.predict(X_test)\n",
    "score=r2_score(y_test,y_pred)\n",
    "score"
   ]
  },
  {
   "cell_type": "code",
   "execution_count": null,
   "metadata": {},
   "outputs": [],
   "source": [
    "#Initializing RFE Model\n",
    "#Fitting the data to model.\n",
    "from sklearn.feature_selection import RFE\n",
    "RFE = RFE(regression, 10)\n",
    "X_RFE = RFE.fit_transform(X,y)\n",
    "regression.fit(X_RFE,y)\n",
    "\n",
    "print(RFE.support_)\n",
    "print(RFE.ranking_)"
   ]
  },
  {
   "cell_type": "code",
   "execution_count": null,
   "metadata": {},
   "outputs": [],
   "source": [
    "#To find the optimum number of features, for which the accuracy is the highest, we are using loop starting with 1 feature and going up to 83\n",
    "from sklearn.feature_selection import RFE\n",
    "nof_list=np.arange(1,83)            \n",
    "high_score=0\n",
    "#Variable to store the optimum features\n",
    "nof=0           \n",
    "score_list =[]\n",
    "for n in range(len(nof_list)):\n",
    "    X_train, X_test, y_train, y_test = train_test_split(X,y, test_size = 0.25, random_state = 0)\n",
    "    model = LinearRegression()\n",
    "    \n",
    "    rfe = RFE(model,nof_list[n])\n",
    "    X_train_rfe = rfe.fit_transform(X_train,y_train)\n",
    "    X_test_rfe = rfe.transform(X_test)\n",
    "    model.fit(X_train_rfe,y_train)\n",
    "    score = model.score(X_test_rfe,y_test)\n",
    "    score_list.append(score)\n",
    "    if(score>high_score):\n",
    "        high_score = score\n",
    "        nof = nof_list[n]\n",
    "\n",
    "print(\"Optimum number of features: %d\" %nof)\n",
    "print(\"Score with %d features: %f\" % (nof, high_score))"
   ]
  },
  {
   "cell_type": "code",
   "execution_count": null,
   "metadata": {},
   "outputs": [],
   "source": [
    "#Identify 10 features giving True results in RFE Model.\n",
    "from sklearn.feature_selection import RFE\n",
    "cols = list(X.columns)\n",
    "model = LinearRegression()\n",
    "rfe = RFE(model, 10)\n",
    "X_rfe = rfe.fit_transform(X,y)\n",
    "model.fit(X_rfe,y)              \n",
    "temp = pd.Series(rfe.support_,index = cols)\n",
    "selected_features_rfe = temp[temp==True].index\n",
    "print(selected_features_rfe)"
   ]
  },
  {
   "cell_type": "code",
   "execution_count": null,
   "metadata": {},
   "outputs": [],
   "source": [
    "#Initializing Ridge Regression\n",
    "#Plotting co-efficient value in feature importance order\n",
    "#Best alpha value\n",
    "#Best score achieved\n",
    "Rreg = RidgeCV()\n",
    "Rreg.fit(X, y)\n",
    "print(\"Best alpha with RidgeCV: %f\" % Rreg.alpha_)\n",
    "print(\"Best score with RidgeCV: %f\" % Rreg.score(X,y))\n",
    "coef = pd.Series(Rreg.coef_, index = X.columns)\n",
    "imp_coef = coef.sort_values()\n",
    "import matplotlib\n",
    "matplotlib.rcParams['figure.figsize'] = (15.0, 30.0)\n",
    "imp_coef.plot(kind = \"barh\")\n",
    "plt.title(\"Feature importance using Ridge Model\")"
   ]
  },
  {
   "cell_type": "code",
   "execution_count": null,
   "metadata": {},
   "outputs": [],
   "source": [
    "#Initializing Lasso Regression\n",
    "#Plotting co-efficient value in feature importance order\n",
    "#Best alpha value\n",
    "#Best score achieved\n",
    "Lreg = LassoCV()\n",
    "Lreg.fit(X, y)\n",
    "print(\"Best alpha with LassoCV: %f\" % Lreg.alpha_)\n",
    "print(\"Best score with LassoCV: %f\" % Lreg.score(X,y))\n",
    "coef = pd.Series(Lreg.coef_, index = X.columns)\n",
    "imp_coef = coef.sort_values()\n",
    "import matplotlib\n",
    "matplotlib.rcParams['figure.figsize'] = (5.0, 30.0)\n",
    "imp_coef.plot(kind = \"barh\")\n",
    "plt.title(\"Feature importance using Lasso Model\")"
   ]
  },
  {
   "cell_type": "code",
   "execution_count": null,
   "metadata": {},
   "outputs": [],
   "source": [
    "#Regularization with various values of alpha\n",
    "for i in range (-3, 3):\n",
    "    alpha = 10**i\n",
    "    rm = linear_model.Ridge(alpha=alpha)\n",
    "    ridge_model = rm.fit(X_train, y_train)\n",
    "    preds_ridge = ridge_model.predict(X_test)\n",
    "\n",
    "    print('Ridge Regularization with alpha = {}'.format(alpha))\n",
    "    print('Model Score: %f' %ridge_model.score(X_test, y_test))\n",
    "    print('Mean Square Error: %f' %mean_squared_error(y_test, preds_ridge), '\\n')"
   ]
  },
  {
   "cell_type": "code",
   "execution_count": null,
   "metadata": {},
   "outputs": [],
   "source": [
    "#Regularization with various values of alpha\n",
    "for i in range (-3, 3):\n",
    "    alpha = 10**i\n",
    "    lrm = linear_model.Lasso(alpha=alpha)\n",
    "    lasso_model = lrm.fit(X_train, y_train)\n",
    "    preds_lasso = lasso_model.predict(X_test)\n",
    "\n",
    "    print('Lasso Regularization with alpha = {}'.format(alpha))\n",
    "    print('Model Score: %f' %lasso_model.score(X_test, y_test))\n",
    "    print('Mean Square Error: %f' %mean_squared_error(y_test, preds_lasso), '\\n')"
   ]
  },
  {
   "cell_type": "code",
   "execution_count": null,
   "metadata": {},
   "outputs": [],
   "source": []
  }
 ],
 "metadata": {
  "file_extension": ".py",
  "kernelspec": {
   "display_name": "Python 3.8.0 64-bit",
   "language": "python",
   "name": "python38064bitda15c6628ee34931b6db575ca12c96ed"
  },
  "language_info": {
   "codemirror_mode": {
    "name": "ipython",
    "version": 3
   },
   "name": "python",
   "version": "3.8.0-final"
  },
  "mimetype": "text/x-python",
  "name": "python",
  "npconvert_exporter": "python",
  "pygments_lexer": "ipython3",
  "version": 3
 },
 "nbformat": 4,
 "nbformat_minor": 2
}
